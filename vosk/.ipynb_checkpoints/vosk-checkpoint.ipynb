{
 "cells": [
  {
   "cell_type": "code",
   "execution_count": 1,
   "metadata": {},
   "outputs": [],
   "source": [
    "from vosk import Model, KaldiRecognizer, SetLogLevel\n",
    "from typing import List, Set, Dict, Tuple\n",
    "import sys\n",
    "import os, json\n",
    "import wave\n",
    "import subprocess\n",
    "from pydub import AudioSegment\n",
    "\n",
    "SetLogLevel(0)"
   ]
  },
  {
   "cell_type": "code",
   "execution_count": 54,
   "metadata": {},
   "outputs": [
    {
     "name": "stdout",
     "output_type": "stream",
     "text": [
      "[{'result': [{'conf': 1.0, 'end': 0.75, 'start': 0.06, 'word': 'people'}, {'conf': 1.0, 'end': 1.74, 'start': 1.32, 'word': 'older'}, {'conf': 1.0, 'end': 1.98, 'start': 1.74, 'word': 'than'}, {'conf': 1.0, 'end': 2.16, 'start': 1.98, 'word': 'me'}, {'conf': 1.0, 'end': 2.31, 'start': 2.16, 'word': 'as'}, {'conf': 1.0, 'end': 2.52, 'start': 2.31, 'word': 'much'}, {'conf': 1.0, 'end': 2.64, 'start': 2.52, 'word': 'as'}, {'conf': 1.0, 'end': 3.27, 'start': 2.64, 'word': 'possible'}], 'text': 'people older than me as much as possible'}, {'result': [{'conf': 1.0, 'end': 10.26, 'start': 9.99, 'word': 'always'}, {'conf': 1.0, 'end': 10.53, 'start': 10.26, 'word': 'good'}, {'conf': 1.0, 'end': 10.8, 'start': 10.53, 'word': 'for'}, {'conf': 0.792936, 'end': 11.1, 'start': 10.8, 'word': 'a'}, {'conf': 0.604535, 'end': 11.310753, 'start': 11.246321, 'word': 'or'}, {'conf': 1.0, 'end': 11.385457, 'start': 11.310753, 'word': 'a'}, {'conf': 1.0, 'end': 11.79, 'start': 11.46, 'word': 'pep'}, {'conf': 1.0, 'end': 12.36, 'start': 11.79, 'word': 'talk'}, {'conf': 1.0, 'end': 13.17, 'start': 12.36, 'word': 'but'}, {'conf': 1.0, 'end': 13.41, 'start': 13.26, 'word': 'with'}, {'conf': 1.0, 'end': 13.5, 'start': 13.41, 'word': 'a'}, {'conf': 1.0, 'end': 13.92, 'start': 13.5, 'word': 'dose'}, {'conf': 1.0, 'end': 14.04, 'start': 13.92, 'word': 'of'}, {'conf': 1.0, 'end': 14.64, 'start': 14.04, 'word': 'reality'}, {'conf': 1.0, 'end': 14.73, 'start': 14.64, 'word': 'he'}, {'conf': 1.0, 'end': 14.97, 'start': 14.73, 'word': \"doesn't\"}, {'conf': 1.0, 'end': 15.57, 'start': 14.97, 'word': 'sugarcoat'}, {'conf': 1.0, 'end': 16.08, 'start': 15.57, 'word': 'anything'}, {'conf': 0.915878, 'end': 16.26, 'start': 16.08, 'word': 'so'}, {'conf': 1.0, 'end': 16.65, 'start': 16.262523, 'word': 'talking'}, {'conf': 1.0, 'end': 16.71, 'start': 16.65, 'word': 'to'}, {'conf': 1.0, 'end': 16.89, 'start': 16.71, 'word': 'him'}, {'conf': 1.0, 'end': 17.19, 'start': 16.89, 'word': 'always'}, {'conf': 1.0, 'end': 17.43, 'start': 17.19, 'word': 'helps'}, {'conf': 1.0, 'end': 17.61, 'start': 17.43, 'word': 'give'}, {'conf': 1.0, 'end': 17.76, 'start': 17.61, 'word': 'me'}, {'conf': 1.0, 'end': 18.57, 'start': 17.76, 'word': 'perspective'}, {'conf': 0.882958, 'end': 19.59, 'start': 18.9, 'word': 'and'}, {'conf': 0.731578, 'end': 20.25, 'start': 19.77, 'word': 'allen'}, {'conf': 1.0, 'end': 21.09, 'start': 20.25, 'word': 'ted'}, {'conf': 1.0, 'end': 21.99, 'start': 21.24, 'word': 'and'}, {'conf': 0.535874, 'end': 22.47, 'start': 22.08, 'word': 'dunno'}, {'conf': 1.0, 'end': 22.8, 'start': 22.53, 'word': 'good'}, {'conf': 1.0, 'end': 22.89, 'start': 22.8, 'word': 'at'}, {'conf': 1.0, 'end': 23.37, 'start': 22.89, 'word': 'stuff'}, {'conf': 1.0, 'end': 23.52, 'start': 23.37, 'word': 'and'}, {'conf': 1.0, 'end': 23.73, 'start': 23.52, 'word': 'get'}, {'conf': 1.0, 'end': 23.88, 'start': 23.740796, 'word': 'a'}, {'conf': 0.888384, 'end': 24.12, 'start': 23.88, 'word': 'lot'}, {'conf': 0.888384, 'end': 24.18, 'start': 24.12, 'word': 'of'}, {'conf': 1.0, 'end': 24.84, 'start': 24.18, 'word': 'stuff'}, {'conf': 1.0, 'end': 25.23, 'start': 24.9, 'word': 'people'}, {'conf': 0.590862, 'end': 25.44, 'start': 25.23, 'word': 'seem'}, {'conf': 1.0, 'end': 25.56, 'start': 25.452274, 'word': 'to'}, {'conf': 1.0, 'end': 25.89, 'start': 25.56, 'word': 'notice'}, {'conf': 1.0, 'end': 26.16, 'start': 25.89, 'word': 'that'}, {'conf': 1.0, 'end': 26.34, 'start': 26.16, 'word': 'i'}, {'conf': 1.0, 'end': 27.06, 'start': 26.64, 'word': 'guess'}, {'conf': 1.0, 'end': 27.66, 'start': 27.06, 'word': 'nice'}, {'conf': 0.627892, 'end': 27.87, 'start': 27.69, 'word': 'get'}, {'conf': 1.0, 'end': 28.05, 'start': 27.87, 'word': 'this'}, {'conf': 1.0, 'end': 28.77, 'start': 28.05, 'word': 'position'}, {'conf': 1.0, 'end': 29.22, 'start': 28.77, 'word': 'funny'}, {'conf': 0.270464, 'end': 29.52, 'start': 29.4, 'word': 'lie'}], 'text': \"always good for a or a pep talk but with a dose of reality he doesn't sugarcoat anything so talking to him always helps give me perspective and allen ted and dunno good at stuff and get a lot of stuff people seem to notice that i guess nice get this position funny lie\"}]\n"
     ]
    }
   ],
   "source": [
    "if not os.path.exists(\"model\"):\n",
    "    print (\"Please download the model from https://alphacephei.com/vosk/models and unpack as 'model' in the current folder.\")\n",
    "    exit (1)\n",
    "\n",
    "sample_rate=16000\n",
    "model = Model(\"model\")\n",
    "rec = KaldiRecognizer(model, sample_rate)\n",
    "rec.SetWords(True)\n",
    "\n",
    "# converts audio file to appropriate format (ffmpeg needs to be installed)\n",
    "process = subprocess.Popen(['ffmpeg', '-loglevel', 'quiet', '-i',\n",
    "                            \"audio/short_speech.wav\",\n",
    "                            '-ar', str(sample_rate) , '-ac', '1', '-f', 's16le', '-'],\n",
    "                            stdout=subprocess.PIPE)\n",
    "\n",
    "json_array = []\n",
    "\n",
    "while True:\n",
    "    data = process.stdout.read(4000)\n",
    "    if len(data) == 0:\n",
    "        break\n",
    "    if rec.AcceptWaveform(data):\n",
    "        res = json.loads(rec.Result())\n",
    "        if 'result' in res:\n",
    "            json_array.append(res)\n",
    "    else:\n",
    "        pass\n",
    "\n",
    "with open('results.json', 'w') as json_res:\n",
    "    json.dump(json_array, json_res)\n"
   ]
  },
  {
   "cell_type": "code",
   "execution_count": 2,
   "metadata": {},
   "outputs": [],
   "source": [
    "def word_statistics(path_to_json: str) -> dict:\n",
    "    \"\"\"\n",
    "    returns a dict that contains every spoken word and its count.\n",
    "    \"\"\"\n",
    "    counts = dict()\n",
    "    sorted_dict = {}\n",
    "    \n",
    "    with open(path_to_json, 'r') as json_res:\n",
    "        json_array = json.load(json_res)\n",
    "    for item in json_array:\n",
    "        if 'result' in item:\n",
    "            for word_stat in item['result']:\n",
    "                if word_stat['word'] in counts:\n",
    "                    counts[word_stat['word']] += 1\n",
    "                else:\n",
    "                    counts[word_stat['word']] = 1\n",
    "    # sort by word count\n",
    "    sorted_keys = sorted(counts, key=counts.get)  \n",
    "    for w in sorted_keys:\n",
    "        sorted_dict[w] = counts[w]\n",
    "    \n",
    "    return sorted_dict\n",
    "                    \n",
    "def get_word_occurrences(word_stat: dict, path_to_json: str) -> List[Dict[str, float]]:\n",
    "    \"\"\"\n",
    "    returns a list of the occurrences (in sec) of all spoken words. Last item in list is the most spoken word.\n",
    "    \"\"\"\n",
    "    occurrences = []\n",
    "    \n",
    "    with open(path_to_json, 'r') as json_res:\n",
    "        json_array = json.load(json_res)\n",
    "    for word in word_stat:\n",
    "        occurrences.append({word: word_stat[word], 'occurrences': []})\n",
    "        for result in json_array:\n",
    "            for occurrence in result['result']:\n",
    "                if occurrence['word'] == word:\n",
    "                    occurrences[len(occurrences) - 1]['occurrences'].append((occurrence['start'], occurrence['end']))\n",
    "    return occurrences\n",
    "    \n",
    "word_stat = word_statistics(\"results.json\")\n",
    "word_occurrences = get_word_occurrences(word_stat, \"results.json\")"
   ]
  },
  {
   "cell_type": "code",
   "execution_count": 107,
   "metadata": {},
   "outputs": [
    {
     "name": "stdout",
     "output_type": "stream",
     "text": [
      "[{'older': 1, 'occurrences': [(1.32, 1.74)]}, {'than': 1, 'occurrences': [(1.74, 1.98)]}, {'much': 1, 'occurrences': [(2.31, 2.52)]}, {'possible': 1, 'occurrences': [(2.64, 3.27)]}, {'for': 1, 'occurrences': [(10.53, 10.8)]}, {'or': 1, 'occurrences': [(11.246321, 11.310753)]}, {'pep': 1, 'occurrences': [(11.46, 11.79)]}, {'talk': 1, 'occurrences': [(11.79, 12.36)]}, {'but': 1, 'occurrences': [(12.36, 13.17)]}, {'with': 1, 'occurrences': [(13.26, 13.41)]}, {'dose': 1, 'occurrences': [(13.5, 13.92)]}, {'reality': 1, 'occurrences': [(14.04, 14.64)]}, {'he': 1, 'occurrences': [(14.64, 14.73)]}, {\"doesn't\": 1, 'occurrences': [(14.73, 14.97)]}, {'sugarcoat': 1, 'occurrences': [(14.97, 15.57)]}, {'anything': 1, 'occurrences': [(15.57, 16.08)]}, {'so': 1, 'occurrences': [(16.08, 16.26)]}, {'talking': 1, 'occurrences': [(16.262523, 16.65)]}, {'him': 1, 'occurrences': [(16.71, 16.89)]}, {'helps': 1, 'occurrences': [(17.19, 17.43)]}, {'give': 1, 'occurrences': [(17.43, 17.61)]}, {'perspective': 1, 'occurrences': [(17.76, 18.57)]}, {'allen': 1, 'occurrences': [(19.77, 20.25)]}, {'ted': 1, 'occurrences': [(20.25, 21.09)]}, {'dunno': 1, 'occurrences': [(22.08, 22.47)]}, {'at': 1, 'occurrences': [(22.8, 22.89)]}, {'lot': 1, 'occurrences': [(23.88, 24.12)]}, {'seem': 1, 'occurrences': [(25.23, 25.44)]}, {'notice': 1, 'occurrences': [(25.56, 25.89)]}, {'that': 1, 'occurrences': [(25.89, 26.16)]}, {'i': 1, 'occurrences': [(26.16, 26.34)]}, {'guess': 1, 'occurrences': [(26.64, 27.06)]}, {'nice': 1, 'occurrences': [(27.06, 27.66)]}, {'this': 1, 'occurrences': [(27.87, 28.05)]}, {'position': 1, 'occurrences': [(28.05, 28.77)]}, {'funny': 1, 'occurrences': [(28.77, 29.22)]}, {'lie': 1, 'occurrences': [(29.4, 29.52)]}, {'people': 2, 'occurrences': [(0.06, 0.75), (24.9, 25.23)]}, {'me': 2, 'occurrences': [(1.98, 2.16), (17.61, 17.76)]}, {'as': 2, 'occurrences': [(2.16, 2.31), (2.52, 2.64)]}, {'always': 2, 'occurrences': [(9.99, 10.26), (16.89, 17.19)]}, {'good': 2, 'occurrences': [(10.26, 10.53), (22.53, 22.8)]}, {'of': 2, 'occurrences': [(13.92, 14.04), (24.12, 24.18)]}, {'to': 2, 'occurrences': [(16.65, 16.71), (25.452274, 25.56)]}, {'stuff': 2, 'occurrences': [(22.89, 23.37), (24.18, 24.84)]}, {'get': 2, 'occurrences': [(23.52, 23.73), (27.69, 27.87)]}, {'and': 3, 'occurrences': [(18.9, 19.59), (21.24, 21.99), (23.37, 23.52)]}, {'a': 4, 'occurrences': [(10.8, 11.1), (11.310753, 11.385457), (13.41, 13.5), (23.740796, 23.88)]}]\n"
     ]
    }
   ],
   "source": [
    "def segment_words_from_audio(audioFileName: str, word_occurrences: dict):\n",
    "    audio = AudioSegment.from_wav(audioFileName)\n",
    "    occurrences = word_occurrences['occurrences']\n",
    "    segment = audio[occurrences[0][0] * 1000 : occurrences[0][1] * 1000]\n",
    "    for i in range(1, len(occurrences)):\n",
    "        segment = segment + audio[occurrences[i][0] * 1000 : occurrences[i][1] * 1000]\n",
    "    segment.export(f'{audioFileName[:-4]}_word-{next(iter(word_occurrences)).upper()}.wav', format='wav')\n",
    "\n",
    "segment_words_from_audio(\"audio/short_speech.wav\", word_occurrences[len(word_occurrences) - 1])\n",
    "print(word_occurrences)"
   ]
  },
  {
   "cell_type": "code",
   "execution_count": null,
   "metadata": {},
   "outputs": [],
   "source": []
  }
 ],
 "metadata": {
  "kernelspec": {
   "display_name": "Python 3",
   "language": "python",
   "name": "python3"
  },
  "language_info": {
   "codemirror_mode": {
    "name": "ipython",
    "version": 3
   },
   "file_extension": ".py",
   "mimetype": "text/x-python",
   "name": "python",
   "nbconvert_exporter": "python",
   "pygments_lexer": "ipython3",
   "version": "3.8.5"
  },
  "varInspector": {
   "cols": {
    "lenName": 16,
    "lenType": 16,
    "lenVar": 40
   },
   "kernels_config": {
    "python": {
     "delete_cmd_postfix": "",
     "delete_cmd_prefix": "del ",
     "library": "var_list.py",
     "varRefreshCmd": "print(var_dic_list())"
    },
    "r": {
     "delete_cmd_postfix": ") ",
     "delete_cmd_prefix": "rm(",
     "library": "var_list.r",
     "varRefreshCmd": "cat(var_dic_list()) "
    }
   },
   "types_to_exclude": [
    "module",
    "function",
    "builtin_function_or_method",
    "instance",
    "_Feature"
   ],
   "window_display": false
  }
 },
 "nbformat": 4,
 "nbformat_minor": 4
}
