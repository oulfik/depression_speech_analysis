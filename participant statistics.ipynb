{
 "cells": [
  {
   "cell_type": "code",
   "execution_count": 6,
   "metadata": {},
   "outputs": [],
   "source": [
    "import json\n",
    "import matplotlib.pyplot as plt\n",
    "from scipy.stats import iqr\n",
    "import numpy as np\n",
    "from matplotlib.ticker import StrMethodFormatter\n",
    "#plt.gca().yaxis.set_major_formatter(StrMethodFormatter('{x:,.0f}')) # No decimal places\n",
    "#plt.gca().yaxis.set_major_formatter(StrMethodFormatter('{x:,.2f}')) # 2 decimal places\n",
    "\n",
    "# use LateX fonts\n",
    "plt.rcParams.update({\n",
    "  \"text.usetex\": True,\n",
    "  \"font.family\": \"Helvetica\"\n",
    "})\n",
    "\n"
   ]
  },
  {
   "cell_type": "code",
   "execution_count": 2,
   "metadata": {},
   "outputs": [],
   "source": [
    "PARTICIPANTS_INFO = {}\n",
    "x_phq = []\n",
    "x_phq_male = []\n",
    "x_phq_female = []"
   ]
  },
  {
   "cell_type": "code",
   "execution_count": 3,
   "metadata": {},
   "outputs": [],
   "source": [
    "\n",
    "\n",
    "with open('extracted_feature_results/results.json', 'r') as jsonFile:\n",
    "    PARTICIPANTS_INFO = json.load(jsonFile)\n",
    "    #print(PARTICIPANTS_INFO)"
   ]
  },
  {
   "cell_type": "code",
   "execution_count": 4,
   "metadata": {},
   "outputs": [
    {
     "name": "stdout",
     "output_type": "stream",
     "text": [
      "169\n",
      "105\n",
      "274\n",
      "tt 274\n",
      "tt 169\n",
      "tt 105\n"
     ]
    }
   ],
   "source": [
    "count_m = 0\n",
    "count_f = 0\n",
    "count = 0\n",
    "for v in PARTICIPANTS_INFO.values():\n",
    "    count += 1\n",
    "    x_phq.append(int(v['phq_score']))\n",
    "    if v['gender'] == 'male':\n",
    "        x_phq_male.append(int(v['phq_score']))\n",
    "        count_m += 1\n",
    "    if v['gender'] == 'female':\n",
    "        x_phq_female.append(int(v['phq_score']))\n",
    "        count_f += 1\n",
    "        \n",
    "print(count_m)\n",
    "print(count_f)\n",
    "print(count)\n",
    "def get_bins_for_hist(list_phq):\n",
    "    print(\"tt\", len(list_phq))\n",
    "    bin_width = (2 * iqr(list_phq)) ** (-1/3) #bin-width based on freedman diaconis rule \n",
    "    bins = round((max(list_phq) - min(list_phq)) / bin_width)\n",
    "    return bins\n",
    "\n",
    "bins = get_bins_for_hist(x_phq)\n",
    "bins_male = get_bins_for_hist(x_phq_male)\n",
    "bins_female = get_bins_for_hist(x_phq_female)"
   ]
  },
  {
   "cell_type": "code",
   "execution_count": 18,
   "metadata": {},
   "outputs": [
    {
     "data": {
      "image/png": "[encoded data removed]",
      "text/plain": [
       "<Figure size 432x288 with 1 Axes>"
      ]
     },
     "metadata": {
      "needs_background": "light"
     },
     "output_type": "display_data"
    }
   ],
   "source": [
    "def plot_hist(list_phq, bins, x_label, y_label, plot_title):\n",
    "    _, _, _ = plt.hist(list_phq, bins, facecolor='g', alpha=0.75)\n",
    "    \n",
    "    #plt.xticks(list_phq, weight = 'bold')\n",
    "    plt.yticks(fontsize=14)\n",
    "    plt.xticks(fontsize=14)\n",
    "    plt.xlabel(x_label, fontsize=16)\n",
    "    plt.ylabel(y_label, fontsize=16)\n",
    "    plt.title(plot_title, fontsize=16)\n",
    "    plt.grid(True)\n",
    "    #plt.xticks(range(0, 24))\n",
    "    plt.gca().xaxis.set_major_formatter(StrMethodFormatter('{x:,.0f}')) # No decimal places\n",
    "    plt.savefig(\"phq-verteilung-maennlich.svg\")\n",
    "    plt.show()\n",
    "   \n",
    "\n",
    "\n",
    "plot_hist(x_phq_male, bins_male, 'PHQ-Wert', 'Anzahl', 'PHQ-Verteilung - männlich')\n",
    "#x_phq_male.sort()\n",
    "#plot_hist(x_phq_female, bins_female, 'PHQ-Wert', 'Anzahl', 'PHQ-Verteilung - weiblich')"
   ]
  },
  {
   "cell_type": "code",
   "execution_count": null,
   "metadata": {},
   "outputs": [],
   "source": []
  }
 ],
 "metadata": {
  "kernelspec": {
   "display_name": "Python 3",
   "language": "python",
   "name": "python3"
  },
  "language_info": {
   "codemirror_mode": {
    "name": "ipython",
    "version": 3
   },
   "file_extension": ".py",
   "mimetype": "text/x-python",
   "name": "python",
   "nbconvert_exporter": "python",
   "pygments_lexer": "ipython3",
   "version": "3.8.5"
  },
  "varInspector": {
   "cols": {
    "lenName": 16,
    "lenType": 16,
    "lenVar": 40
   },
   "kernels_config": {
    "python": {
     "delete_cmd_postfix": "",
     "delete_cmd_prefix": "del ",
     "library": "var_list.py",
     "varRefreshCmd": "print(var_dic_list())"
    },
    "r": {
     "delete_cmd_postfix": ") ",
     "delete_cmd_prefix": "rm(",
     "library": "var_list.r",
     "varRefreshCmd": "cat(var_dic_list()) "
    }
   },
   "types_to_exclude": [
    "module",
    "function",
    "builtin_function_or_method",
    "instance",
    "_Feature"
   ],
   "window_display": false
  }
 },
 "nbformat": 4,
 "nbformat_minor": 4
}
