{
 "cells": [
  {
   "cell_type": "code",
   "execution_count": 7,
   "metadata": {},
   "outputs": [],
   "source": [
    "from platform import python_version\n",
    "\n",
    "print(python_version())"
   ]
  },
  {
   "cell_type": "code",
   "execution_count": null,
   "metadata": {},
   "outputs": [],
   "source": []
  },
  {
   "cell_type": "code",
   "execution_count": 6,
   "metadata": {},
   "outputs": [
    {
     "name": "stdout",
     "output_type": "stream",
     "text": [
      "[]\n",
      "                           0\n",
      "number_ of_syllables      44\n",
      "number_of_pauses           1\n",
      "rate_of_speech             5\n",
      "articulation_rate          6\n",
      "speaking_duration        7.8\n",
      "original_duration        9.6\n",
      "balance                  0.8\n",
      "f0_mean               112.29\n",
      "f0_std                 16.52\n",
      "f0_median              110.2\n",
      "f0_min                    79\n",
      "f0_max                   249\n",
      "f0_quantile25            104\n",
      "f0_quan75                121\n"
     ]
    }
   ],
   "source": [
    "#import myspsolution as mysp\n",
    "mysp=__import__(\"my-voice-analysis\")   \n",
    "\n",
    "\n",
    "p=\"my_voice\" # Audio File title\n",
    "c=r\"C:\\Users\\oliver\\Desktop\\digMed\\Datenstrukturen und Analysemethoden im Gesundheitsbereich\\depression_analysis\\interviews\" # Path to the Audio_File directory (Python 3.7)\n",
    "mysp.mysptotal(p,c)\n",
    "\n",
    "\n",
    "\n",
    "                "
   ]
  },
  {
   "cell_type": "code",
   "execution_count": 7,
   "metadata": {},
   "outputs": [
    {
     "name": "stdout",
     "output_type": "stream",
     "text": [
      "tes\n"
     ]
    }
   ],
   "source": [
    "print(\"tes\")"
   ]
  },
  {
   "cell_type": "markdown",
   "metadata": {},
   "source": [
    "# Vergleich monotone und normale Sprache"
   ]
  },
  {
   "cell_type": "code",
   "execution_count": 1,
   "metadata": {},
   "outputs": [],
   "source": [
    "import librosa\n",
    "import os\n",
    "import numpy as np"
   ]
  },
  {
   "cell_type": "code",
   "execution_count": 8,
   "metadata": {},
   "outputs": [],
   "source": [
    "FOLDER = \"test_monotonie\"\n",
    "SAMPLING_RATE = 48_000\n",
    "FRAME_SIZE_SEC = 0.025\n",
    "FRAME_SIZE = int(SAMPLING_RATE*FRAME_SIZE_SEC)\n",
    "HOP_LENGTH = int(FRAME_SIZE/4)"
   ]
  },
  {
   "cell_type": "code",
   "execution_count": 11,
   "metadata": {},
   "outputs": [
    {
     "name": "stdout",
     "output_type": "stream",
     "text": [
      "monoton.m4a\n"
     ]
    },
    {
     "name": "stderr",
     "output_type": "stream",
     "text": [
      "<ipython-input-11-e6ab08130eaf>:4: FutureWarning: Pass y=[0.         0.         0.         ... 0.00384521 0.00369263 0.0027771 ] as keyword args. From version 0.10 passing these as positional arguments will result in an error\n",
      "  print(librosa.get_duration(y, sr=SAMPLING_RATE))\n"
     ]
    },
    {
     "name": "stdout",
     "output_type": "stream",
     "text": [
      "3.84\n",
      "F0 mean: 109.68990870733431, f0_std: 11.777227416747888, f0_range: 63.86954562216373\n",
      "----------------------\n",
      "normal.m4a\n"
     ]
    },
    {
     "name": "stderr",
     "output_type": "stream",
     "text": [
      "<ipython-input-11-e6ab08130eaf>:4: FutureWarning: Pass y=[ 0.0000000e+00  0.0000000e+00  0.0000000e+00 ... -6.1035156e-05\n",
      "  0.0000000e+00  3.0517578e-05] as keyword args. From version 0.10 passing these as positional arguments will result in an error\n",
      "  print(librosa.get_duration(y, sr=SAMPLING_RATE))\n"
     ]
    },
    {
     "name": "stdout",
     "output_type": "stream",
     "text": [
      "3.9466666666666668\n",
      "F0 mean: 125.33439149249264, f0_std: 19.876018444018094, f0_range: 80.29228818633764\n",
      "----------------------\n"
     ]
    }
   ],
   "source": [
    "for audio_file in os.listdir(FOLDER):\n",
    "    print(audio_file)\n",
    "    y, _ = librosa.load(f\"{FOLDER}/{audio_file}\", sr=SAMPLING_RATE)\n",
    "    f0, _, _ = librosa.pyin(y, fmin=50, fmax=500, frame_length=FRAME_SIZE, \n",
    "                            hop_length=HOP_LENGTH, sr=SAMPLING_RATE)\n",
    "    f0_no_nans = f0[~np.isnan(f0)]\n",
    "    f0_std = np.std(f0_no_nans)\n",
    "    #f0_median = np.median(f0_no_nans)\n",
    "    f0_mean = np.mean(f0_no_nans)\n",
    "    f0_range = np.max(f0_no_nans) - np.min(f0_no_nans)\n",
    "    print(f\"F0 mean: {f0_mean}, f0_std: {f0_std}, f0_range: {f0_range}\")\n",
    "    print(\"----------------------\")"
   ]
  },
  {
   "cell_type": "code",
   "execution_count": null,
   "metadata": {},
   "outputs": [],
   "source": []
  }
 ],
 "metadata": {
  "kernelspec": {
   "display_name": "Python 3",
   "language": "python",
   "name": "python3"
  },
  "language_info": {
   "codemirror_mode": {
    "name": "ipython",
    "version": 3
   },
   "file_extension": ".py",
   "mimetype": "text/x-python",
   "name": "python",
   "nbconvert_exporter": "python",
   "pygments_lexer": "ipython3",
   "version": "3.8.5"
  },
  "varInspector": {
   "cols": {
    "lenName": 16,
    "lenType": 16,
    "lenVar": 40
   },
   "kernels_config": {
    "python": {
     "delete_cmd_postfix": "",
     "delete_cmd_prefix": "del ",
     "library": "var_list.py",
     "varRefreshCmd": "print(var_dic_list())"
    },
    "r": {
     "delete_cmd_postfix": ") ",
     "delete_cmd_prefix": "rm(",
     "library": "var_list.r",
     "varRefreshCmd": "cat(var_dic_list()) "
    }
   },
   "types_to_exclude": [
    "module",
    "function",
    "builtin_function_or_method",
    "instance",
    "_Feature"
   ],
   "window_display": false
  }
 },
 "nbformat": 4,
 "nbformat_minor": 4
}
