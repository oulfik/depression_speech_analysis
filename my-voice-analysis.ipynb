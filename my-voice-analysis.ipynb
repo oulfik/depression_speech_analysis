{
 "cells": [
  {
   "cell_type": "code",
   "execution_count": 7,
   "metadata": {},
   "outputs": [],
   "source": [
    "from platform import python_version\n",
    "\n",
    "print(python_version())"
   ]
  },
  {
   "cell_type": "code",
   "execution_count": null,
   "metadata": {},
   "outputs": [],
   "source": []
  },
  {
   "cell_type": "code",
   "execution_count": 6,
   "metadata": {},
   "outputs": [
    {
     "name": "stdout",
     "output_type": "stream",
     "text": [
      "[]\n",
      "                           0\n",
      "number_ of_syllables      44\n",
      "number_of_pauses           1\n",
      "rate_of_speech             5\n",
      "articulation_rate          6\n",
      "speaking_duration        7.8\n",
      "original_duration        9.6\n",
      "balance                  0.8\n",
      "f0_mean               112.29\n",
      "f0_std                 16.52\n",
      "f0_median              110.2\n",
      "f0_min                    79\n",
      "f0_max                   249\n",
      "f0_quantile25            104\n",
      "f0_quan75                121\n"
     ]
    }
   ],
   "source": [
    "#import myspsolution as mysp\n",
    "mysp=__import__(\"my-voice-analysis\")   \n",
    "\n",
    "\n",
    "p=\"my_voice\" # Audio File title\n",
    "c=r\"C:\\Users\\oliver\\Desktop\\digMed\\Datenstrukturen und Analysemethoden im Gesundheitsbereich\\depression_analysis\\interviews\" # Path to the Audio_File directory (Python 3.7)\n",
    "mysp.mysptotal(p,c)\n",
    "\n",
    "\n",
    "\n",
    "                "
   ]
  },
  {
   "cell_type": "code",
   "execution_count": 7,
   "metadata": {},
   "outputs": [
    {
     "name": "stdout",
     "output_type": "stream",
     "text": [
      "tes\n"
     ]
    }
   ],
   "source": [
    "print(\"tes\")"
   ]
  },
  {
   "cell_type": "code",
   "execution_count": null,
   "metadata": {},
   "outputs": [],
   "source": []
  }
 ],
 "metadata": {
  "kernelspec": {
   "display_name": "Python 3",
   "language": "python",
   "name": "python3"
  },
  "language_info": {
   "codemirror_mode": {
    "name": "ipython",
    "version": 3
   },
   "file_extension": ".py",
   "mimetype": "text/x-python",
   "name": "python",
   "nbconvert_exporter": "python",
   "pygments_lexer": "ipython3",
   "version": "3.8.5"
  }
 },
 "nbformat": 4,
 "nbformat_minor": 4
}
