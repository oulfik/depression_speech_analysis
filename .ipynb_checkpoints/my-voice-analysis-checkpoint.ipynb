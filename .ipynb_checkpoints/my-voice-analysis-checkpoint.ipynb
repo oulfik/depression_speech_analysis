{
 "cells": [
  {
   "cell_type": "code",
   "execution_count": 28,
   "metadata": {},
   "outputs": [],
   "source": [
    "from platform import python_version\n",
    "\n",
    "print(python_version())"
   ]
  },
  {
   "cell_type": "code",
   "execution_count": 3,
   "metadata": {},
   "outputs": [
    {
     "name": "stdout",
     "output_type": "stream",
     "text": [
      "Collecting my-voice-analysis\n",
      "  Downloading my_voice_analysis-0.7-py3-none-any.whl (16 kB)\n",
      "Requirement already satisfied: scipy>=1.1.0 in c:\\users\\oliver\\anaconda3\\lib\\site-packages (from my-voice-analysis) (1.5.2)\n",
      "Requirement already satisfied: pandas>=0.23.4 in c:\\users\\oliver\\anaconda3\\lib\\site-packages (from my-voice-analysis) (1.1.3)\n",
      "Requirement already satisfied: numpy>=1.15.2 in c:\\users\\oliver\\anaconda3\\lib\\site-packages (from my-voice-analysis) (1.19.2)\n",
      "Collecting praat-parselmouth>=0.3.2\n",
      "  Downloading praat_parselmouth-0.4.0-cp38-cp38-win_amd64.whl (8.9 MB)\n",
      "Requirement already satisfied: pytz>=2017.2 in c:\\users\\oliver\\anaconda3\\lib\\site-packages (from pandas>=0.23.4->my-voice-analysis) (2020.1)\n",
      "Requirement already satisfied: python-dateutil>=2.7.3 in c:\\users\\oliver\\anaconda3\\lib\\site-packages (from pandas>=0.23.4->my-voice-analysis) (2.8.1)\n",
      "Requirement already satisfied: six>=1.5 in c:\\users\\oliver\\anaconda3\\lib\\site-packages (from python-dateutil>=2.7.3->pandas>=0.23.4->my-voice-analysis) (1.15.0)\n",
      "Installing collected packages: praat-parselmouth, my-voice-analysis\n",
      "Successfully installed my-voice-analysis-0.7 praat-parselmouth-0.4.0\n"
     ]
    }
   ],
   "source": []
  },
  {
   "cell_type": "code",
   "execution_count": 27,
   "metadata": {},
   "outputs": [],
   "source": [
    "#import myspsolution as mysp\n",
    "mysp=__import__(\"my-voice-analysis\")   \n",
    "from io import StringIO\n",
    "import sys\n",
    "\n",
    "p=\"my_voice\" # Audio File title\n",
    "c=r\"C:\\Users\\oliver\\Desktop\\digMed\\Datenstrukturen und Analysemethoden im Gesundheitsbereich\\depression_analysis\\interviews\" # Path to the Audio_File directory (Python 3.7)\n",
    "mysp.mysptotal(p,c)\n",
    "result = StringIO()\n",
    "sys.stdout = result\n",
    "result_string = result.getvalue()\n",
    "print(\"-------------\")\n",
    "print(result_string)\n",
    "\n",
    "                "
   ]
  },
  {
   "cell_type": "code",
   "execution_count": null,
   "metadata": {},
   "outputs": [],
   "source": []
  },
  {
   "cell_type": "code",
   "execution_count": null,
   "metadata": {},
   "outputs": [],
   "source": []
  }
 ],
 "metadata": {
  "kernelspec": {
   "display_name": "Python 3",
   "language": "python",
   "name": "python3"
  },
  "language_info": {
   "codemirror_mode": {
    "name": "ipython",
    "version": 3
   },
   "file_extension": ".py",
   "mimetype": "text/x-python",
   "name": "python",
   "nbconvert_exporter": "python",
   "pygments_lexer": "ipython3",
   "version": "3.8.5"
  }
 },
 "nbformat": 4,
 "nbformat_minor": 4
}
